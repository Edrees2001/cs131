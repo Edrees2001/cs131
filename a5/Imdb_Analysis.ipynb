{
  "nbformat": 4,
  "nbformat_minor": 0,
  "metadata": {
    "colab": {
      "provenance": []
    },
    "kernelspec": {
      "name": "python3",
      "display_name": "Python 3"
    },
    "language_info": {
      "name": "python"
    }
  },
  "cells": [
    {
      "cell_type": "code",
      "execution_count": 6,
      "metadata": {
        "id": "n3s5SpModQ2E"
      },
      "outputs": [],
      "source": [
        "import pyspark\n",
        "from pyspark.sql import SparkSession\n",
        "from pyspark.sql.functions import col, avg, count, when, lit\n",
        "from pyspark.ml.feature import StringIndexer, VectorAssembler\n",
        "from pyspark.ml.clustering import KMeans\n",
        "from pyspark.sql.functions import regexp_replace\n",
        "from pyspark.ml.evaluation import ClusteringEvaluator\n",
        "import matplotlib.pyplot as plt\n",
        "import seaborn as sns\n",
        "import pandas as pd\n",
        "import numpy as np\n",
        "import uuid\n",
        "import os"
      ]
    },
    {
      "cell_type": "code",
      "source": [
        "# Initialize Spark session\n",
        "spark = SparkSession.builder.appName(\"IMDBAnalysis\").getOrCreate()"
      ],
      "metadata": {
        "id": "H8hVS9lPddgq"
      },
      "execution_count": 2,
      "outputs": []
    },
    {
      "cell_type": "markdown",
      "source": [
        "### Load dataset"
      ],
      "metadata": {
        "id": "fOJ6ws4adr7-"
      }
    },
    {
      "cell_type": "code",
      "source": [
        "\n",
        "df = spark.read.csv(\"imdb_top_1000.csv\", header=True, inferSchema=True)"
      ],
      "metadata": {
        "id": "r5SElj6EdgYy"
      },
      "execution_count": 3,
      "outputs": []
    },
    {
      "cell_type": "markdown",
      "source": [
        "### Objective: Analyze movie trends (ratings, genres, runtime) and cluster movies based on ratings and runtime"
      ],
      "metadata": {
        "id": "3qBIVsIldqDG"
      }
    },
    {
      "cell_type": "markdown",
      "source": [
        "### 1. Metadata"
      ],
      "metadata": {
        "id": "df511VMtealQ"
      }
    },
    {
      "cell_type": "code",
      "source": [
        "num_entries = df.count()\n",
        "features = df.columns\n",
        "rating_stats = df.select(\"IMDB_Rating\").describe().toPandas()\n",
        "runtime_stats = df.select(\"Runtime\").describe().toPandas()\n",
        "gross_stats = df.select(\"Gross\").describe().toPandas()"
      ],
      "metadata": {
        "id": "eg6dQ1vcdoO6"
      },
      "execution_count": 4,
      "outputs": []
    },
    {
      "cell_type": "markdown",
      "source": [
        "### 2. Data preprocessing"
      ],
      "metadata": {
        "id": "E6yr47dEeEzG"
      }
    },
    {
      "cell_type": "code",
      "source": [
        "# Clean Runtime (remove ' min' and convert to integer)\n",
        "df = df.withColumn(\"Runtime\", regexp_replace(col(\"Runtime\"), \" min\", \"\").cast(\"integer\"))\n",
        "# Clean Gross (remove commas and convert to float)\n",
        "df = df.withColumn(\"Gross\", regexp_replace(col(\"Gross\"), \",\", \"\").cast(\"float\"))"
      ],
      "metadata": {
        "id": "FUQhrTU9eCxr"
      },
      "execution_count": 7,
      "outputs": []
    },
    {
      "cell_type": "markdown",
      "source": [
        "### 3. Nontrivial analysis with Spark MLlib (KMeans clustering)"
      ],
      "metadata": {
        "id": "LT-JMVa7eTOg"
      }
    },
    {
      "cell_type": "code",
      "source": [
        "df_clean = df.dropna(subset=[\"IMDB_Rating\", \"Runtime\"])\n",
        "assembler = VectorAssembler(inputCols=[\"IMDB_Rating\", \"Runtime\"], outputCol=\"features\")\n",
        "df_vector = assembler.transform(df_clean)"
      ],
      "metadata": {
        "id": "kO_BcTRLeCve"
      },
      "execution_count": 8,
      "outputs": []
    },
    {
      "cell_type": "code",
      "source": [
        "# Train KMeans model\n",
        "kmeans = KMeans(k=3, seed=1)\n",
        "model = kmeans.fit(df_vector)\n",
        "predictions = model.transform(df_vector)\n",
        "\n",
        "# Evaluate clustering\n",
        "evaluator = ClusteringEvaluator()\n",
        "silhouette = evaluator.evaluate(predictions)"
      ],
      "metadata": {
        "id": "AhCcmk-seefo"
      },
      "execution_count": 9,
      "outputs": []
    },
    {
      "cell_type": "markdown",
      "source": [
        "### 4. Additional analysis: Genre trends"
      ],
      "metadata": {
        "id": "RabdHhpxeis3"
      }
    },
    {
      "cell_type": "code",
      "source": [
        "genre_df = df.groupBy(\"Genre\").agg(\n",
        "    avg(\"IMDB_Rating\").alias(\"avg_rating\"),\n",
        "    count(\"*\").alias(\"movie_count\")\n",
        ").orderBy(\"avg_rating\", ascending=False)"
      ],
      "metadata": {
        "id": "Cdw97bXpegRV"
      },
      "execution_count": 10,
      "outputs": []
    },
    {
      "cell_type": "code",
      "source": [
        "# Convert to Pandas for visualization\n",
        "predictions_pd = predictions.select(\"Series_Title\", \"IMDB_Rating\", \"Runtime\", \"prediction\").toPandas()\n",
        "genre_pd = genre_df.toPandas()"
      ],
      "metadata": {
        "id": "Jf9ztM9Ben7k"
      },
      "execution_count": 11,
      "outputs": []
    },
    {
      "cell_type": "markdown",
      "source": [
        "### 5. Visualizations"
      ],
      "metadata": {
        "id": "aSnnGUAeeqHa"
      }
    },
    {
      "cell_type": "code",
      "source": [
        "plt.figure(figsize=(10, 6))\n",
        "sns.scatterplot(data=predictions_pd, x=\"IMDB_Rating\", y=\"Runtime\", hue=\"prediction\", palette=\"deep\")\n",
        "plt.title(\"Movie Clusters by IMDB Rating and Runtime\")\n",
        "plt.savefig(\"rating_runtime_clusters.png\")\n",
        "plt.close()\n"
      ],
      "metadata": {
        "id": "_gd1UQbKerFT"
      },
      "execution_count": 12,
      "outputs": []
    },
    {
      "cell_type": "code",
      "source": [
        "# Plot 2: Bar plot of average rating by genre\n",
        "plt.figure(figsize=(12, 6))\n",
        "sns.barplot(data=genre_pd.head(10), x=\"avg_rating\", y=\"Genre\")\n",
        "plt.title(\"Top 10 Genres by Average IMDB Rating\")\n",
        "plt.savefig(\"genre_ratings.png\")\n",
        "plt.close()"
      ],
      "metadata": {
        "id": "_oW9oVYte0t3"
      },
      "execution_count": 13,
      "outputs": []
    },
    {
      "cell_type": "code",
      "source": [
        "# 6. Save metadata and results\n",
        "metadata = f\"\"\"\n",
        "Dataset Metadata:\n",
        "- Number of entries: {num_entries}\n",
        "- Features: {', '.join(features)}\n",
        "- IMDB Rating stats:\n",
        "{rating_stats.to_string()}\n",
        "- Runtime stats:\n",
        "{runtime_stats.to_string()}\n",
        "- Gross stats:\n",
        "{gross_stats.to_string()}\n",
        "\"\"\"\n",
        "with open(\"metadata.txt\", \"w\") as f:\n",
        "    f.write(metadata)\n",
        "\n",
        "# Save clustering results\n",
        "predictions_pd.to_csv(\"clustering_results.csv\", index=False)\n",
        "\n",
        "# Stop Spark session\n",
        "spark.stop()"
      ],
      "metadata": {
        "id": "SmkjZZEAe13g"
      },
      "execution_count": 14,
      "outputs": []
    }
  ]
}